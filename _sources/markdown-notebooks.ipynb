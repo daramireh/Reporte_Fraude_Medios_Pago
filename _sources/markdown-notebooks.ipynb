{
 "cells": [
  {
   "cell_type": "markdown",
   "id": "f4713cd3",
   "metadata": {},
   "source": [
    "# Modelos de clasificación para detección de fraude transaccional\n",
    "\n",
    "Los modelos de Machine Learning utilizados para determinar si una transacción es fraudulenta o no se basan en Regresión Logística, Maquina de Soporte Vectorial y Random Forest. Estos modelos son ajustados por medio de validación cruzada estratficada toda vez que la variable de respuesta (booleana que indica si hay fraude o no), se encuentra desbalanceada toda vez que las transacciones fraudulentas tienden a una menor proporción respecto de las no fraudulentas.\n",
    "\n",
    "En ese orden de ideas, se presentan los resultados (scoring) de los tres modelos con la validación cruzada y se exponen los resultados de la regresión logística sin validación cruzada. Por razones de capacidad de procesamiento se tomó una muestra para la construcción del modelo y validación del algoritmo.\n",
    "\n",
    "```{Nota}\n",
    "Se considera un score bueno cuando está por encima del 80%\n",
    "```\n",
    "\n",
    "## Pipelines \n",
    "\n",
    "Los pipelines son herramientas que se han desarrollado para optimizar el código de la maquina de aprendizaje, permiten mejorar el rendimiento del procesamiento y reducen el costo computacional.\n",
    "\n",
    "Para más información consultar la siguiente documentación de [sklearn](https://scikit-learn.org/stable/modules/generated/sklearn.pipeline.Pipeline.html)"
   ]
  }
 ],
 "metadata": {
  "jupytext": {
   "cell_metadata_filter": "-all",
   "formats": "md:myst",
   "text_representation": {
    "extension": ".md",
    "format_name": "myst",
    "format_version": 0.13,
    "jupytext_version": "1.11.5"
   }
  },
  "kernelspec": {
   "display_name": "Python 3",
   "language": "python",
   "name": "python3"
  },
  "language_info": {
   "codemirror_mode": {
    "name": "ipython",
    "version": 3
   },
   "file_extension": ".py",
   "mimetype": "text/x-python",
   "name": "python",
   "nbconvert_exporter": "python",
   "pygments_lexer": "ipython3",
   "version": "3.9.5"
  },
  "source_map": [
   14
  ]
 },
 "nbformat": 4,
 "nbformat_minor": 5
}